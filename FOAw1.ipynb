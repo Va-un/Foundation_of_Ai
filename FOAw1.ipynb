{
  "nbformat": 4,
  "nbformat_minor": 0,
  "metadata": {
    "colab": {
      "provenance": []
    },
    "kernelspec": {
      "name": "python3",
      "display_name": "Python 3"
    },
    "language_info": {
      "name": "python"
    }
  },
  "cells": [
    {
      "cell_type": "code",
      "execution_count": null,
      "metadata": {
        "id": "ZvZfUh0WhaIx"
      },
      "outputs": [],
      "source": [
        "def knapSack(W, wt, val, n):\n",
        "\n",
        "\tif n == 0 or W == 0:\n",
        "\t\treturn 0\n",
        "\n",
        "\tif (wt[n-1] > W):\n",
        "\t\treturn knapSack(W, wt, val, n-1)\n",
        "\n",
        "\telse:\n",
        "\t\treturn max(\n",
        "\t\t\tval[n-1] + knapSack(\n",
        "\t\t\t\tW-wt[n-1], wt, val, n-1),\n",
        "\t\t\tknapSack(W, wt, val, n-1))\n",
        "\n"
      ]
    },
    {
      "cell_type": "code",
      "source": [
        "val = [60, 100, 120]\n",
        "wt = [10, 20, 30]\n",
        "W = 60\n",
        "n = len(val)\n",
        "print (knapSack(W, wt, val, n))"
      ],
      "metadata": {
        "colab": {
          "base_uri": "https://localhost:8080/"
        },
        "id": "drg8anDYjeS_",
        "outputId": "a846e4b6-ae4c-4b9a-da87-25ab0ec98d01"
      },
      "execution_count": null,
      "outputs": [
        {
          "output_type": "stream",
          "name": "stdout",
          "text": [
            "280\n"
          ]
        }
      ]
    }
  ]
}